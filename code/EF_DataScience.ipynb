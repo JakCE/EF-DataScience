{
  "nbformat": 4,
  "nbformat_minor": 0,
  "metadata": {
    "colab": {
      "provenance": []
    },
    "kernelspec": {
      "name": "python3",
      "display_name": "Python 3"
    },
    "language_info": {
      "name": "python"
    }
  },
  "cells": [
    {
      "cell_type": "code",
      "source": [
        "import pandas as pd\n",
        "import numpy as np\n",
        "import matplotlib.pyplot as plt\n",
        "import seaborn as sns\n",
        "\n",
        "%matplotlib inline"
      ],
      "metadata": {
        "id": "KIR8Hiu2pKd1"
      },
      "execution_count": 18,
      "outputs": []
    },
    {
      "cell_type": "code",
      "source": [
        "# 1. Obtener los Datos\n",
        "# a) Leer el archivo Banco.csv y cargarlo en el DataFrame llamado Banco\n",
        "url = 'https://raw.githubusercontent.com/JakCE/EF-DataScience/main/data/Banco.csv'\n",
        "Banco = pd.read_csv(url)\n",
        "\n",
        "# b) Verificar los cinco primeros registros\n",
        "print(Banco.head())\n",
        "\n",
        "# c) ¿Cuántos registros hay?\n",
        "print(\"Número de registros:\", len(Banco))\n",
        "\n",
        "# d) ¿Cuál es la estructura de los datos?\n",
        "print(\"Estructura de los datos:\")\n",
        "print(Banco.info())\n"
      ],
      "metadata": {
        "colab": {
          "base_uri": "https://localhost:8080/"
        },
        "id": "r1lhOAzcpLTb",
        "outputId": "36335980-1a01-46cb-a912-05f7b1c6f0c2"
      },
      "execution_count": 19,
      "outputs": [
        {
          "output_type": "stream",
          "name": "stdout",
          "text": [
            "  contact;education;day;duration;campaign;previous;poutcome;loan\n",
            "0              cellular;primary;19;79;1;0;unknown;no            \n",
            "1          cellular;secondary;11;220;1;4;failure;yes            \n",
            "2            cellular;tertiary;16;185;1;1;failure;no            \n",
            "3                unknown;tertiary;3;;4;0;unknown;yes            \n",
            "4                    ;secondary;5;226;1;0;unknown;no            \n",
            "Número de registros: 4155\n",
            "Estructura de los datos:\n",
            "<class 'pandas.core.frame.DataFrame'>\n",
            "RangeIndex: 4155 entries, 0 to 4154\n",
            "Data columns (total 1 columns):\n",
            " #   Column                                                          Non-Null Count  Dtype \n",
            "---  ------                                                          --------------  ----- \n",
            " 0   contact;education;day;duration;campaign;previous;poutcome;loan  4155 non-null   object\n",
            "dtypes: object(1)\n",
            "memory usage: 32.6+ KB\n",
            "None\n"
          ]
        }
      ]
    },
    {
      "cell_type": "code",
      "source": [
        "# 2. Análisis EDA\n",
        "# a) ¿Qué variables son categóricas y cuáles numéricas?\n",
        "# Se puede determinar mirando los tipos de datos de cada columna en el DataFrame.\n",
        "\n",
        "# Variables categóricas\n",
        "categorical_vars = Banco.select_dtypes(include=['object']).columns\n",
        "print(\"Variables categóricas:\")\n",
        "print(categorical_vars)\n",
        "\n",
        "# Variables numéricas\n",
        "numeric_vars = Banco.select_dtypes(include=['int64', 'float64']).columns\n",
        "print(\"Variables numéricas:\")\n",
        "print(numeric_vars)\n",
        "\n",
        "# b) ¿Están todas las variables completas o tenemos campos con valores nulos?\n",
        "print(\"Valores nulos por variable:\")\n",
        "print(Banco.isnull().sum())\n"
      ],
      "metadata": {
        "colab": {
          "base_uri": "https://localhost:8080/"
        },
        "id": "HBi9r0v5pMdF",
        "outputId": "b1f24360-55a5-48a4-a86c-486b582346a4"
      },
      "execution_count": 20,
      "outputs": [
        {
          "output_type": "stream",
          "name": "stdout",
          "text": [
            "Variables categóricas:\n",
            "Index(['contact;education;day;duration;campaign;previous;poutcome;loan'], dtype='object')\n",
            "Variables numéricas:\n",
            "Index([], dtype='object')\n",
            "Valores nulos por variable:\n",
            "contact;education;day;duration;campaign;previous;poutcome;loan    0\n",
            "dtype: int64\n"
          ]
        }
      ]
    },
    {
      "cell_type": "code",
      "source": [
        "# 3. Imputación de la data\n",
        "# a) Reemplazar los datos faltantes de la(s) variable(s) continua(s) con la media o mediana.\n",
        "Banco[numeric_vars] = Banco[numeric_vars].fillna(Banco[numeric_vars].median())\n",
        "\n",
        "# b) Reemplazar los datos faltantes de la(s) variable(s) categórica(s) con la moda.\n",
        "Banco[categorical_vars] = Banco[categorical_vars].fillna(Banco[categorical_vars].mode().iloc[0])\n",
        "\n",
        "# Reemplazar los valores nulos en variables numéricas con ceros\n",
        "Banco[numeric_vars] = Banco[numeric_vars].fillna(0)\n"
      ],
      "metadata": {
        "id": "d1XFSDrPpMC7"
      },
      "execution_count": 21,
      "outputs": []
    },
    {
      "cell_type": "code",
      "source": [
        "# 4. Gráficos\n",
        "# a) ¿Existen variables con datos outliers?\n",
        "# Puedes visualizar los outliers mediante boxplots.\n",
        "plt.figure(figsize=(10, 6))\n",
        "sns.boxplot(data=Banco[numeric_vars])\n",
        "plt.title(\"Boxplot de variables numéricas\")\n",
        "plt.show()\n",
        "\n",
        "# b) Explorar los tipos de relaciones de las variables utilizando el diagrama pairplot\n",
        "sns.pairplot(Banco[numeric_vars])\n",
        "plt.title(\"Diagrama Pairplot de variables numéricas\")\n",
        "plt.show()"
      ],
      "metadata": {
        "id": "JGYXv3xRpLn6"
      },
      "execution_count": null,
      "outputs": []
    },
    {
      "cell_type": "code",
      "source": [
        "# 5. Correlación y Tablas\n",
        "# a) Calcular la correlación de las variables continuas. Grafique e Interprete\n",
        "correlation = Banco[numeric_vars].corr()\n",
        "plt.figure(figsize=(10, 8))\n",
        "sns.heatmap(correlation, annot=True, cmap='coolwarm')\n",
        "plt.title(\"Matriz de correlación de variables numéricas\")\n",
        "plt.show()\n",
        "\n",
        "# b) Calcular la media de la variable campaign según loan, interprete el resultado.\n",
        "mean_campaign_loan = Banco.groupby('loan')['campaign'].mean()\n",
        "print(\"Media de la variable campaign según loan:\")\n",
        "print(mean_campaign_loan)"
      ],
      "metadata": {
        "id": "eLs8LjhkpXPU"
      },
      "execution_count": null,
      "outputs": []
    }
  ]
}