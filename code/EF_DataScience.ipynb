{
  "nbformat": 4,
  "nbformat_minor": 0,
  "metadata": {
    "colab": {
      "provenance": []
    },
    "kernelspec": {
      "name": "python3",
      "display_name": "Python 3"
    },
    "language_info": {
      "name": "python"
    }
  },
  "cells": [
    {
      "cell_type": "code",
      "source": [
        "import pandas as pd\n",
        "import numpy as np\n",
        "import matplotlib.pyplot as plt\n",
        "import seaborn as sns\n",
        "\n",
        "%matplotlib inline"
      ],
      "metadata": {
        "id": "qGz1nsOJi2Y0"
      },
      "execution_count": 3,
      "outputs": []
    },
    {
      "cell_type": "code",
      "source": [
        "# 1. Obtener los Datos\n",
        "# a) Leer el archivo Banco.csv y cargarlo en el DataFrame llamado Banco\n",
        "Banco = pd.read_csv('../data/Banco.csv')\n",
        "\n",
        "# b) Verificar los cinco primeros registros\n",
        "print(Banco.head())\n",
        "\n",
        "# c) ¿Cuántos registros hay?\n",
        "print(\"Número de registros:\", len(Banco))\n",
        "\n",
        "# d) ¿Cuál es la estructura de los datos?\n",
        "print(\"Estructura de los datos:\")\n",
        "print(Banco.info())"
      ],
      "metadata": {
        "id": "DoiZVOOHi6vr"
      },
      "execution_count": null,
      "outputs": []
    },
    {
      "cell_type": "code",
      "source": [
        "# 2. Análisis EDA\n",
        "# a) ¿Qué variables son categóricas y cuáles numéricas?\n",
        "# Se puede determinar mirando los tipos de datos de cada columna en el DataFrame.\n",
        "\n",
        "# Variables categóricas\n",
        "categorical_vars = Banco.select_dtypes(include=['object']).columns\n",
        "print(\"Variables categóricas:\")\n",
        "print(categorical_vars)\n",
        "\n",
        "# Variables numéricas\n",
        "numeric_vars = Banco.select_dtypes(include=['int64', 'float64']).columns\n",
        "print(\"Variables numéricas:\")\n",
        "print(numeric_vars)\n",
        "\n",
        "# b) ¿Están todas las variables completas o tenemos campos con valores nulos?\n",
        "print(\"Valores nulos por variable:\")\n",
        "print(Banco.isnull().sum())"
      ],
      "metadata": {
        "id": "K2rMYRypi_HT"
      },
      "execution_count": null,
      "outputs": []
    },
    {
      "cell_type": "code",
      "source": [
        "# 3. Imputación de la data\n",
        "# a) Reemplazar los datos faltantes de la(s) variable(s) continua(s) con la media o mediana.\n",
        "Banco[numeric_vars] = Banco[numeric_vars].fillna(Banco[numeric_vars].median())\n",
        "\n",
        "# b) Reemplazar los datos faltantes de la(s) variable(s) categórica(s) con la moda.\n",
        "Banco[categorical_vars] = Banco[categorical_vars].fillna(Banco[categorical_vars].mode().iloc[0])"
      ],
      "metadata": {
        "id": "lxNA1Wa3jCAr"
      },
      "execution_count": null,
      "outputs": []
    },
    {
      "cell_type": "code",
      "source": [
        "# 4. Gráficos\n",
        "# a) ¿Existen variables con datos outliers?\n",
        "# Puedes visualizar los outliers mediante boxplots.\n",
        "plt.figure(figsize=(10, 6))\n",
        "sns.boxplot(data=Banco[numeric_vars])\n",
        "plt.title(\"Boxplot de variables numéricas\")\n",
        "plt.show()\n",
        "\n",
        "# b) Explorar los tipos de relaciones de las variables utilizando el diagrama pairplot\n",
        "sns.pairplot(Banco[numeric_vars])\n",
        "plt.title(\"Diagrama Pairplot de variables numéricas\")\n",
        "plt.show()"
      ],
      "metadata": {
        "id": "dFcmYJeZjE7S"
      },
      "execution_count": null,
      "outputs": []
    },
    {
      "cell_type": "code",
      "source": [
        "# 5. Correlación y Tablas\n",
        "# a) Calcular la correlación de las variables continuas. Grafique e Interprete\n",
        "correlation = Banco[numeric_vars].corr()\n",
        "plt.figure(figsize=(10, 8))\n",
        "sns.heatmap(correlation, annot=True, cmap='coolwarm')\n",
        "plt.title(\"Matriz de correlación de variables numéricas\")\n",
        "plt.show()\n",
        "\n",
        "# b) Calcular la media de la variable campaign según loan, interprete el resultado.\n",
        "mean_campaign_loan = Banco.groupby('loan')['campaign'].mean()\n",
        "print(\"Media de la variable campaign según loan:\")\n",
        "print(mean_campaign_loan)"
      ],
      "metadata": {
        "id": "6haUaJK3jHar"
      },
      "execution_count": null,
      "outputs": []
    }
  ]
}