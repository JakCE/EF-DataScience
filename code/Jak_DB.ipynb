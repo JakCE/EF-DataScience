{
  "cells": [
    {
      "cell_type": "markdown",
      "metadata": {
        "id": "Hm4M-PLDzqR7"
      },
      "source": [
        "EJERCICIO 2"
      ]
    },
    {
      "cell_type": "code",
      "execution_count": 6,
      "metadata": {
        "colab": {
          "base_uri": "https://localhost:8080/",
          "height": 403
        },
        "id": "O9fSOL5rzyLC",
        "outputId": "24c13bfe-4209-4682-c9bb-4e7768d5365e"
      },
      "outputs": [],
      "source": [
        "# Importar librerías\n",
        "import pandas as pd\n",
        "import numpy as np\n",
        "import seaborn as sns\n",
        "import matplotlib.pyplot as plt\n",
        "from sklearn.model_selection import train_test_split\n",
        "from sklearn.linear_model import LinearRegression\n",
        "from sklearn import metrics\n"
      ]
    },
    {
      "cell_type": "code",
      "execution_count": null,
      "metadata": {},
      "outputs": [],
      "source": [
        "# 1. Obtener los Datos\n",
        "# a) Leer el archivo Auto_mpg.csv y cargarlo en el DataFrame llamado Auto\n",
        "Auto = pd.read_csv(\"../Auto_mpg.csv\")\n",
        "\n",
        "# b) Verificar los cinco primeros registros\n",
        "print(Auto.head())"
      ]
    },
    {
      "cell_type": "code",
      "execution_count": null,
      "metadata": {},
      "outputs": [],
      "source": [
        "# 2. Gráficos\n",
        "# a) Utilizar seaborn para crear un JointGrid y comparar la variable desplazamiento y mpg\n",
        "sns.jointplot(x=\"desplazamiento\", y=\"mpg\", data=Auto, kind=\"reg\")\n",
        "\n",
        "# b) Utilizar seaborn para crear un Jointplot y comparar la variable peso y mpg\n",
        "sns.jointplot(x=\"peso\", y=\"mpg\", data=Auto, kind=\"reg\")\n",
        "\n",
        "# c) Explorar la correlación entre todas las parejas de variables. Graficar e interpretar\n",
        "sns.pairplot(Auto)"
      ]
    },
    {
      "cell_type": "code",
      "execution_count": null,
      "metadata": {},
      "outputs": [],
      "source": [
        "# 3. Regresión Lineal Múltiple\n",
        "# a) Dividir los datos en conjuntos de entrenamiento y prueba\n",
        "X = Auto[['desplazamiento', 'peso']]\n",
        "y = Auto['mpg']\n",
        "X_train, X_test, y_train, y_test = train_test_split(X, y, test_size=0.3, random_state=101)\n",
        "\n",
        "# b) Crear una instancia de un modelo de LinearRegression() llamado lm\n",
        "lm = LinearRegression()\n",
        "\n",
        "# c) Entrenar/ajustar (Train/fit) el modelo de regresión lineal 'lm' con los datos de entrenamiento\n",
        "lm.fit(X_train, y_train)"
      ]
    },
    {
      "cell_type": "code",
      "execution_count": null,
      "metadata": {},
      "outputs": [],
      "source": [
        "# 4. Coeficientes del modelo\n",
        "# a) Imprimir los estimadores de los coeficientes del modelo\n",
        "print('Coeficientes:', lm.coef_)\n",
        "\n",
        "# b) Interpretación de los coeficientes\n",
        "# El coeficiente asociado a \"desplazamiento\" indica cómo se espera que el rendimiento en millas por galón (mpg) cambie\n",
        "# cuando el valor de \"desplazamiento\" aumenta en una unidad, manteniendo las demás variables constantes.\n",
        "# El coeficiente asociado a \"peso\" indica cómo se espera que el rendimiento en millas por galón (mpg) cambie\n",
        "# cuando el valor de \"peso\" aumenta en una unidad, manteniendo las demás variables constantes."
      ]
    },
    {
      "cell_type": "code",
      "execution_count": null,
      "metadata": {},
      "outputs": [],
      "source": [
        "# 5. Predicción y Evaluación\n",
        "# a) Utilizar lm.predict() para predecir el conjunto de datos X_test\n",
        "y_pred = lm.predict(X_test)\n",
        "\n",
        "# b) Crear una gráfica de dispersión de los valores de prueba reales frente a los valores predichos\n",
        "plt.scatter(y_test, y_pred)\n",
        "plt.xlabel('Valores Reales')\n",
        "plt.ylabel('Valores Predichos')\n",
        "plt.show()\n",
        "\n",
        "# c) Calcular el error medio absoluto, el error cuadrático medio y la raíz del error cuadrático medio\n",
        "mae = metrics.mean_absolute_error(y_test, y_pred)\n",
        "mse = metrics.mean_squared_error(y_test, y_pred)\n",
        "rmse = np.sqrt(mse)\n",
        "print('Error medio absoluto (MAE):', mae)\n",
        "print('Error cuadrático medio (MSE):', mse)\n",
        "print('Raíz del error cuadrático medio (RMSE):', rmse)\n",
        "\n",
        "# d) Calcular la precisión del modelo\n",
        "accuracy = lm.score(X_test, y_test)\n",
        "print('Precisión del modelo:', accuracy)"
      ]
    }
  ],
  "metadata": {
    "colab": {
      "provenance": []
    },
    "kernelspec": {
      "display_name": "Python 3",
      "name": "python3"
    },
    "language_info": {
      "codemirror_mode": {
        "name": "ipython",
        "version": 3
      },
      "file_extension": ".py",
      "mimetype": "text/x-python",
      "name": "python",
      "nbconvert_exporter": "python",
      "pygments_lexer": "ipython3",
      "version": "3.10.6"
    }
  },
  "nbformat": 4,
  "nbformat_minor": 0
}
